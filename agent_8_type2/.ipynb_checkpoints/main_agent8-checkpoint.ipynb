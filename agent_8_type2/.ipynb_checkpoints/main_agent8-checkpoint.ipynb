{
 "cells": [
  {
   "cell_type": "markdown",
   "metadata": {},
   "source": [
    "# Multi terrain probabistic sensing"
   ]
  },
  {
   "cell_type": "markdown",
   "metadata": {},
   "source": [
    "# About this file\n",
    "\n",
    "This file is to use the functionalities of the classes defined in the other file.\n",
    "\n",
    "## Legend:\n",
    "White -> FLAT<br>\n",
    "Light grey-> HILLY<br>\n",
    "Dark grey->FOREST<br>\n",
    "Black-> BLOCK\n"
   ]
  },
  {
   "cell_type": "code",
   "execution_count": 17,
   "metadata": {},
   "outputs": [],
   "source": [
    "%run a_star_2.ipynb\n",
    "%run agent_8.ipynb\n",
    "import numpy as np\n",
    "import random\n",
    "from matplotlib import cm"
   ]
  },
  {
   "cell_type": "code",
   "execution_count": 18,
   "metadata": {},
   "outputs": [
    {
     "data": {
      "text/plain": [
       "0"
      ]
     },
     "execution_count": 18,
     "metadata": {},
     "output_type": "execute_result"
    }
   ],
   "source": [
    "maze_size"
   ]
  },
  {
   "cell_type": "markdown",
   "metadata": {},
   "source": [
    "# Code for Agent 8 goes here"
   ]
  },
  {
   "cell_type": "code",
   "execution_count": 19,
   "metadata": {},
   "outputs": [],
   "source": [
    "def display2(matrix):\n",
    "    \"\"\"\n",
    "    This function is used to display maze with traversed path(highlighted)\n",
    "    trajectory_path: path traversed by the agent so far\n",
    "    matrix: maze of the problem\n",
    "    \"\"\"\n",
    "    temp = matrix.copy()\n",
    "    colormap = cm.get_cmap(\"Greys\")\n",
    "    plt.imshow(temp, cmap=colormap)\n",
    "    plt.show()"
   ]
  },
  {
   "cell_type": "code",
   "execution_count": 20,
   "metadata": {},
   "outputs": [],
   "source": [
    "def run_agent_8(agent8, maze):\n",
    "#     print(\"Agent6 started.\\nMaze Size: \",maze_size,\" Source: \",maze.source,\" Target: \",maze.target)\n",
    "    global maze_size\n",
    "    source = maze.source\n",
    "    terrain_matrix = maze.terrain_matrix\n",
    "    full_grid_world_matrix = maze.full_grid_world_matrix\n",
    "    agent_gridworld = agent8.agent_gridworld\n",
    "\n",
    "    current_target_type = 1\n",
    "    current_target = (0,0)\n",
    "    \n",
    "    target_reached = False\n",
    "    \n",
    "    while not target_reached:\n",
    "        \n",
    "        if current_target_type == 1:\n",
    "            current_target = agent8.getMaxProbabilityCellDivideByDistance(source, maze_size)\n",
    "            current_target2 = agent8.getMaxCertaintyCell(source)\n",
    "            current_target_type = 2\n",
    "        else:\n",
    "            current_target = current_target2\n",
    "            current_target_type = 1\n",
    "        initialize(maze_size,0.3)\n",
    "        path = astar(source,current_target, agent8.agent_gridworld_0_1)\n",
    "        if(len(path)==0):\n",
    "            agent8.agent_gridworld_0_1[current_target[0],current_target[1]] = 1\n",
    "            agent8.update_cells_when_xy_blocked(current_target[0], current_target[1], maze_size)\n",
    "            agent8.update_certainties(maze)\n",
    "            \n",
    "            agent8.agent_gridworld.itemset(current_target,3)\n",
    "            maze.full_grid_world_matrix[current_target[0],current_target[1]] =1\n",
    "            maze.terrain_matrix[current_target[0],current_target[1]] = 3\n",
    "            continue\n",
    "        \n",
    "        for i in range(len(path)):\n",
    "            node = path[i]\n",
    "            agent8.actions += 1\n",
    "            if full_grid_world_matrix.item(node) == 0:\n",
    "                terrain_type = terrain_matrix.item(node)\n",
    "                agent8.visited_matrix.itemset(node, True)\n",
    "                agent8.agent_gridworld.itemset(node, terrain_type)\n",
    "                if i == len(path)-1:\n",
    "                    agent8.actions += 1\n",
    "                    if(terrain_type == 0):\n",
    "                        agent8.flat_exam += 1\n",
    "                    elif(terrain_type == 1):\n",
    "                        agent8.hilly_exam += 1\n",
    "                    else:\n",
    "                        agent8.forest_exam += 1\n",
    "                    if(agent8.examine(node, terrain_type, maze)):\n",
    "                        print(\"found goal\")\n",
    "                        target_reached = True\n",
    "                        break\n",
    "                    else:\n",
    "                        #update probabiities when failed to be found and terrain type=terrain_matrix.item(node)\n",
    "                        agent8.update_cells_when_xy_failed_with_some_terrainType(node[0], node[1], terrain_type, maze_size)\n",
    "                        agent8.update_certainties(maze)\n",
    "                        source = path[i]\n",
    "#                         print(agent6.belief_matrix)\n",
    "                        break\n",
    "            elif full_grid_world_matrix.item(node) == 1:\n",
    "                agent8.actions += 2\n",
    "#                 print(node,'<-cell blocked, replanning route')\n",
    "                #agent6.update_probabilities(node,'blocked')\n",
    "                agent8.agent_gridworld_0_1[node[0],node[1]] = 1\n",
    "#                 print(\"In node:\",node,\"\\nbefore: \",agent6.belief_matrix)\n",
    "                agent8.update_cells_when_xy_blocked(node[0], node[1], maze_size)\n",
    "                agent8.update_certainties(maze)\n",
    "                agent8.agent_gridworld.itemset(node,3)\n",
    "                source = path[i-1]\n",
    "#                 print(\"after:\",agent6.belief_matrix)\n",
    "                break\n"
   ]
  },
  {
   "cell_type": "markdown",
   "metadata": {},
   "source": [
    "# Main function"
   ]
  },
  {
   "cell_type": "code",
   "execution_count": 26,
   "metadata": {},
   "outputs": [
    {
     "name": "stdout",
     "output_type": "stream",
     "text": [
      "Maze size: 50 \n",
      "Source:  (18, 21) \n",
      "Target: (24, 13) \n",
      "maze:\n"
     ]
    },
    {
     "data": {
      "image/png": "[encoded data removed]",
      "text/plain": [
       "<Figure size 432x288 with 1 Axes>"
      ]
     },
     "metadata": {
      "needs_background": "light"
     },
     "output_type": "display_data"
    },
    {
     "name": "stdout",
     "output_type": "stream",
     "text": [
      "found goal\n"
     ]
    }
   ],
   "source": [
    "if __name__ == \"__main__\":\n",
    "\n",
    "    #Initialize Maze\n",
    "    maze_size = 50\n",
    "    maze = gridworld(maze_size)\n",
    "    \n",
    "    # set source and target\n",
    "    initialize(maze_size,0.3)\n",
    "#     print(maze.source,maze.target, maze.full_grid_world_matrix)\n",
    "    path = astar(maze.source, maze.target, maze.full_grid_world_matrix)\n",
    "    while(len(path)==0):\n",
    "        print(\"finding valid source and target\")\n",
    "        maze.source, maze.target = maze.set_valid_source_target(maze_size)\n",
    "        initialize(maze_size,0.3)\n",
    "        path = astar(maze.source, maze.target, maze.full_grid_world_matrix)\n",
    "    \n",
    "    # Initialize Agent 6\n",
    "    agent8 = agent_8(maze_size)\n",
    "    \n",
    "    #Print all details\n",
    "    print(\"Maze size:\",maze_size,\"\\nSource: \",maze.source,\"\\nTarget:\",maze.target,\"\\nmaze:\")\n",
    "    display2(maze.terrain_matrix)\n",
    "    #runnning Agent 6 on maze\n",
    "    run_agent_8(agent8, maze)"
   ]
  },
  {
   "cell_type": "code",
   "execution_count": 22,
   "metadata": {},
   "outputs": [],
   "source": [
    "# print(type(maze.full_grid_world_matrix))\n"
   ]
  },
  {
   "cell_type": "markdown",
   "metadata": {},
   "source": [
    "# Test Matrix"
   ]
  },
  {
   "cell_type": "code",
   "execution_count": 150,
   "metadata": {},
   "outputs": [],
   "source": [
    "# maze_size = 3\n",
    "# maze = gridworld(maze_size)\n",
    "# maze.terrain_matrix = np.asmatrix([[0,2,1],[3,3,0],[3,1,2]])\n",
    "# maze.full_grid_world_matrix = np.asmatrix([[0,0,0],[1,1,0],[1,0,0]])\n",
    "# maze.source = (0,0)\n",
    "# maze.target = (2,1)\n",
    "\n",
    "\n",
    "# agent8 = agent_8(maze_size)"
   ]
  },
  {
   "cell_type": "code",
   "execution_count": 151,
   "metadata": {},
   "outputs": [
    {
     "name": "stdout",
     "output_type": "stream",
     "text": [
      "Maze size: 3 \n",
      "Source:  (0, 0) \n",
      "Target: (2, 1) \n",
      "maze:\n"
     ]
    },
    {
     "data": {
      "image/png": "[encoded data removed]",
      "text/plain": [
       "<Figure size 432x288 with 1 Axes>"
      ]
     },
     "metadata": {
      "needs_background": "light"
     },
     "output_type": "display_data"
    }
   ],
   "source": [
    "# plt.spy(maze.full_grid_world_matrix)\n",
    "# print(\"Maze size:\",maze_size,\"\\nSource: \",maze.source,\"\\nTarget:\",maze.target,\"\\nmaze:\")\n",
    "# display2(maze.terrain_matrix)"
   ]
  },
  {
   "cell_type": "code",
   "execution_count": 163,
   "metadata": {},
   "outputs": [],
   "source": [
    "# run_agent_8(agent8, maze)"
   ]
  },
  {
   "cell_type": "markdown",
   "metadata": {},
   "source": [
    "# Testing done"
   ]
  },
  {
   "cell_type": "code",
   "execution_count": null,
   "metadata": {},
   "outputs": [],
   "source": []
  },
  {
   "cell_type": "code",
   "execution_count": null,
   "metadata": {},
   "outputs": [],
   "source": []
  }
 ],
 "metadata": {
  "kernelspec": {
   "display_name": "Python 3 (ipykernel)",
   "language": "python",
   "name": "python3"
  },
  "language_info": {
   "codemirror_mode": {
    "name": "ipython",
    "version": 3
   },
   "file_extension": ".py",
   "mimetype": "text/x-python",
   "name": "python",
   "nbconvert_exporter": "python",
   "pygments_lexer": "ipython3",
   "version": "3.7.10"
  }
 },
 "nbformat": 4,
 "nbformat_minor": 4
}
