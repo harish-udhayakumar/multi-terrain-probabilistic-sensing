{
 "cells": [
  {
   "cell_type": "markdown",
   "id": "f2c2cccb",
   "metadata": {},
   "source": [
    "## Points to remember\n",
    "\n",
    "Write down the points to be remembered in this cell while coding, so it might be helpful to others working on same code - different functions\n",
    "\n",
    "1) Every current node (object) will be updated as visited after it goes through inference rules function <br>\n",
    "2) send 3 arguments to init()<br>\n",
    "3) import this file to the main file<br>\n",
    "4) declaring only one set of variables for: agent_matrix,helper_matrix, agent_gridworld, full_gridworld in the main file. This file is only to implement functionalities of inference engine<br>"
   ]
  },
  {
   "cell_type": "code",
   "execution_count": null,
   "id": "38819658",
   "metadata": {},
   "outputs": [],
   "source": [
    "import numpy as np\n",
    "import sympy as sym\n",
    "import random"
   ]
  },
  {
   "cell_type": "code",
   "execution_count": 5,
   "id": "ec16f58b",
   "metadata": {},
   "outputs": [],
   "source": [
    "class agent_6:\n",
    "\n",
    "    def __init__(self, row, col, maze_size):\n",
    "        self.row = row\n",
    "        self.column = col\n",
    "        self.neighbor_list = [] #need to find a node's neighbor indices and append to this list\n",
    "        self.visited = False\n",
    "        self.blocked = -1\n",
    "        self.free_neighbors = []\n",
    "        self.blocked_neighbors = []\n",
    "        self.probability = 0\n",
    "        self.terrain = 0\n",
    "        \n",
    "    def display_node(self):\n",
    "        print(\"Node: \", self.row, \",\" , self.column)\n",
    "        print(\"\\n the number of neighbors cell x has: \", self.Nx)\n",
    "        print(\"visited  Whether or not cell x has been visited: \", self.visited)\n",
    "        print(\"blocked  Whether or not cell x has been confirmed as empty or blocked, or is currently unconfirmed: \", self.blocked)\n",
    "        print(\"The undiscovered neighbors are: \", self.neighbor_list)\n",
    "        print(\"The confirmed neighbors that are free: \", self.free_neighbors)\n",
    "        print(\"The confirmed neighbors that are blocked: \", self.blocked_neighbors)\n",
    "\n",
    "    def compute_probability(self):\n",
    "        \n",
    "        return "
   ]
  },
  {
   "cell_type": "code",
   "execution_count": null,
   "id": "25a31019",
   "metadata": {},
   "outputs": [],
   "source": []
  }
 ],
 "metadata": {
  "kernelspec": {
   "display_name": "Python 3",
   "language": "python",
   "name": "python3"
  },
  "language_info": {
   "codemirror_mode": {
    "name": "ipython",
    "version": 3
   },
   "file_extension": ".py",
   "mimetype": "text/x-python",
   "name": "python",
   "nbconvert_exporter": "python",
   "pygments_lexer": "ipython3",
   "version": "3.8.8"
  }
 },
 "nbformat": 4,
 "nbformat_minor": 5
}
