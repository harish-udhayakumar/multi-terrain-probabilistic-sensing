{
 "cells": [
  {
   "cell_type": "markdown",
   "metadata": {},
   "source": [
    "# Multi terrain probabistic sensing"
   ]
  },
  {
   "cell_type": "markdown",
   "metadata": {},
   "source": [
    "# About this file\n",
    "\n",
    "This file is to use the functionalities of the classes defined in the other file.\n",
    "\n",
    "## Things to be done here\n",
    "\n",
    "1) write algorithm for agent3, agent4 <br>\n",
    "2) if object_matrix is knowledge base, then lets rename it to knowledge base to avoid confusion and have unambiguous variable names.<br>\n",
    "3) Import A* code into this file.\n",
    "\n",
    "## Things done here\n",
    "\n",
    "1) declared the set of global variables required\n",
    "2) renamed object_matrix to knowledge_base"
   ]
  },
  {
   "cell_type": "code",
   "execution_count": 90,
   "metadata": {},
   "outputs": [],
   "source": [
    "%run a_star.ipynb\n",
    "import numpy as np\n",
    "%run agent_6.ipynb\n",
    "\n",
    "import random"
   ]
  },
  {
   "cell_type": "code",
   "execution_count": 91,
   "metadata": {},
   "outputs": [],
   "source": [
    "maze_size = 10\n",
    "probability = 0.3\n",
    "global agent_gridworld\n",
    "global full_grid_world_matrix\n",
    "global visited_list\n",
    "global terrain_matrix\n",
    "global agent6_terrain_matrix\n",
    "\n",
    "agent_gridworld = np.matrix(np.zeros((maze_size, maze_size)))\n",
    "terrain_matrix = np.matrix(np.zeros((maze_size, maze_size)))\n",
    "full_grid_world_matrix = np.full((maze_size, maze_size), 0)\n",
    "\n",
    "# knowledge_base is used to store the inference/ knowledge base of objects(nodes) with it's respective indices\n",
    "knowledge_base = np.array([agent_6(int(item/maze_size),item%maze_size,maze_size) for item in range(maze_size * maze_size)]).reshape(maze_size, maze_size)\n"
   ]
  },
  {
   "cell_type": "code",
   "execution_count": 113,
   "metadata": {},
   "outputs": [],
   "source": [
    "class Agent6:\n",
    "    \n",
    "    def __init__(self,belief):\n",
    "        self.belief = belief\n",
    "        self.type = 0\n",
    "        self.visited = False"
   ]
  },
  {
   "cell_type": "code",
   "execution_count": 114,
   "metadata": {},
   "outputs": [
    {
     "data": {
      "text/plain": [
       "<matplotlib.image.AxesImage at 0x7f3c9e7f90d0>"
      ]
     },
     "execution_count": 114,
     "metadata": {},
     "output_type": "execute_result"
    },
    {
     "data": {
      "image/png": "[encoded data removed]",
      "text/plain": [
       "<Figure size 432x288 with 1 Axes>"
      ]
     },
     "metadata": {
      "needs_background": "light"
     },
     "output_type": "display_data"
    }
   ],
   "source": [
    "# full_grid_world_matrix = populateMatrix(maze_size, probability)\n",
    "\n",
    "#### Use either the above line in the block or the below set of lines of code to get the full grid world\n",
    "\n",
    "full_grid_world_matrix = [[0, 0, 0, 1, 1, 0, 0, 1, 0, 0],\n",
    "        [0, 1, 0, 1, 0, 0, 0, 0, 0, 0],\n",
    "        [0, 0, 0, 0, 0, 1, 0, 0, 0, 0],\n",
    "        [0, 1, 0, 0, 0, 0, 0, 0, 1, 0],\n",
    "        [1, 1, 1, 1, 0, 1, 0, 0, 0, 0],\n",
    "        [0, 1, 0, 0, 1, 1, 0, 0, 0, 1],\n",
    "        [0, 0, 0, 0, 0, 1, 0, 1, 0, 1],\n",
    "        [1, 1, 1, 0, 0, 0, 1, 1, 0, 0],\n",
    "        [0, 0, 0, 0, 0, 0, 0, 0, 0, 0],\n",
    "        [0, 0, 0, 0, 1, 1, 0, 0, 0, 0]]\n",
    "\n",
    "full_grid_world_matrix = np.matrix(full_grid_world_matrix)\n",
    "plt.spy(full_grid_world_matrix)"
   ]
  },
  {
   "cell_type": "code",
   "execution_count": 94,
   "metadata": {},
   "outputs": [],
   "source": [
    "def initialize_terrain_matrix(maze_size):\n",
    "    n = 10\n",
    "    p = 1\n",
    "\n",
    "    # generates number between 0-2\n",
    "    global terrain_matrix\n",
    "    np_array = np.random.randint(3, size=100)\n",
    "\n",
    "#     block = lambda x: 2 if x>p else (1 if x<p else 0)\n",
    "#     vectorized_block = np.vectorize(block)\n",
    "#     np_array = vectorized_block(np_array).reshape(n,n)\n",
    "    terrain_matrix = np.asmatrix(np_array).reshape(n,n)\n",
    "#     print(\"The probability of finding forest terrains = \", np.count_nonzero(terrain_matrix == 2)/(n*n))\n",
    "#     print(\"The probability of finding hilly terrains = \", np.count_nonzero(terrain_matrix == 1)/(n*n))\n",
    "#     print(\"The probability of finding flat terrains = \", np.count_nonzero(terrain_matrix == 0)/(n*n))\n",
    "\n",
    "    return terrain_matrix"
   ]
  },
  {
   "cell_type": "code",
   "execution_count": 95,
   "metadata": {},
   "outputs": [
    {
     "name": "stdout",
     "output_type": "stream",
     "text": [
      "[[1 1 0 2 0 0 1 0 1 2]\n",
      " [2 2 2 2 1 0 1 1 0 1]\n",
      " [1 1 1 1 0 2 0 2 1 0]\n",
      " [1 0 0 0 1 0 2 2 0 1]\n",
      " [2 0 2 0 0 1 1 2 0 1]\n",
      " [1 0 2 1 2 2 0 1 0 2]\n",
      " [0 1 0 1 2 1 0 0 2 1]\n",
      " [0 0 2 0 1 1 0 0 2 0]\n",
      " [0 0 2 2 0 0 0 0 1 2]\n",
      " [1 0 0 2 2 1 1 0 1 1]]\n"
     ]
    }
   ],
   "source": [
    "initialize_terrain_matrix(10)\n",
    "print(terrain_matrix)"
   ]
  },
  {
   "cell_type": "code",
   "execution_count": 118,
   "metadata": {},
   "outputs": [],
   "source": [
    "def initialize_all_matrices(maze_size):\n",
    "    global terrain_matrix   \n",
    "    global full_grid_world_matrix\n",
    "    global block_unblock_matrix\n",
    "    global agent_gridworld\n",
    "    global agent6_terrain_matrix\n",
    "    \n",
    "    \n",
    "    initialize(maze_size,p)\n",
    "    full_grid_world_matrix = block_unblock_matrix\n",
    "    agent_gridworld = np.full((maze_size, maze_size), 0)\n",
    "    terrain_matrix = initialize_terrain_matrix(maze_size)\n",
    "#     agent6_terrain_matrix = np.array(Agent6()).reshape(maze_size, maze_size)\n",
    "    agent6_terrain_matrix = np.array([Agent6(1/(maze_size*maze_size)) for item in range(maze_size * maze_size)]).reshape(maze_size, maze_size)\n",
    "\n"
   ]
  },
  {
   "cell_type": "code",
   "execution_count": 121,
   "metadata": {},
   "outputs": [
    {
     "name": "stdout",
     "output_type": "stream",
     "text": [
      "0.01 0 False\n"
     ]
    }
   ],
   "source": [
    "# initialize_all_matrices(10)\n",
    "# print(agent6_terrain_matrix[0,0].belief,agent6_terrain_matrix[0,0].type,agent6_terrain_matrix[0,0].visited)"
   ]
  },
  {
   "cell_type": "markdown",
   "metadata": {},
   "source": [
    "# Code for Agent 6 goes here"
   ]
  },
  {
   "cell_type": "code",
   "execution_count": 10,
   "metadata": {},
   "outputs": [],
   "source": [
    "def agent6(maze_size, source): # using this name for the lack of a better name. please change.\n",
    "    global agent_gridworld\n",
    "    global full_grid_world_matrix\n",
    "    global terrain_matrix\n",
    "\n",
    "    _,_,_,path = astar(source,agent_gridworld,goal)\n",
    "    path = path[::-1]\n",
    "    print('path', path)\n",
    "    goal_reached = False\n",
    "\n",
    "    if path == []:\n",
    "        return visited_list, number_of_bumps, infered_list, goal_reached\n",
    "\n",
    "    for node in path:\n",
    "        row = node[0]\n",
    "        column = node[1]\n",
    "        knowledge_base[row][column].blocked = helper_matrix[row][col]"
   ]
  },
  {
   "cell_type": "code",
   "execution_count": 123,
   "metadata": {},
   "outputs": [
    {
     "ename": "SyntaxError",
     "evalue": "unexpected EOF while parsing (<ipython-input-123-a29f56de302d>, line 16)",
     "output_type": "error",
     "traceback": [
      "\u001b[0;36m  File \u001b[0;32m\"<ipython-input-123-a29f56de302d>\"\u001b[0;36m, line \u001b[0;32m16\u001b[0m\n\u001b[0;31m    \u001b[0m\n\u001b[0m    ^\u001b[0m\n\u001b[0;31mSyntaxError\u001b[0m\u001b[0;31m:\u001b[0m unexpected EOF while parsing\n"
     ]
    }
   ],
   "source": [
    "def run_agent_6(source,target):\n",
    "    global terrain_matrix   \n",
    "    global full_grid_world_matrix\n",
    "    global block_unblock_matrix\n",
    "    global agent_gridworld\n",
    "    global agent6_terrain_matrix\n",
    "    \n",
    "    target_reached = False\n",
    "    while not target_reached:\n",
    "        goal = getMaxProbabilityCell()\n",
    "        _,_,_,path = astar(source, agent_gridworld, goal)\n",
    "                \n",
    "        for node in path:\n",
    "            terrain_type = check_type(node)\n",
    "            update_agent6_terrain_matrix()\n",
    "            if terrain_type == 3:\n",
    "                agent6_terrain_matrix[node[0],node[1]].belief = 0\n",
    "                update_probabilites_when_blocked_formula()\n",
    "                break    \n",
    "        target_reached = examine(path[-1])\n",
    "\n",
    "        if (not target_reached)\n",
    "            update_probabilites_when_unblocked_formula()\n",
    "            \n",
    "      \n",
    "            \n",
    "        "
   ]
  },
  {
   "cell_type": "code",
   "execution_count": 124,
   "metadata": {},
   "outputs": [],
   "source": [
    "def set_valid_source_target():\n",
    "    global full_grid_world_matrix\n",
    "    global terrain_matrix\n",
    "    global maze_size\n",
    "    initialize_all_matrices(maze_size)\n",
    "    target = list(np.random.randint(maze_size,size=2))\n",
    "    if terrain_matrix[target[0],target[1]] == 3:\n",
    "        terrain_matrix[target[0],target[1]]=np.random.randint(3,size=1)\n",
    "        \n",
    "    source = list(np.random.randint(maze_size,size=2))\n",
    "    if terrain_matrix[source[0],source[1]] == 3:\n",
    "        terrain_matrix[source[0],source[1]]=np.random.randint(3,size=1)\n",
    "    \n",
    "    _,_,_,path = astar(source,target,full_grid_world_matrix)\n",
    "    if (len(path) == 0):\n",
    "            return set_valid_source_target()\n",
    "    \n",
    "    return [source,target]"
   ]
  },
  {
   "cell_type": "markdown",
   "metadata": {},
   "source": [
    "# Main function"
   ]
  },
  {
   "cell_type": "code",
   "execution_count": 125,
   "metadata": {
    "scrolled": true
   },
   "outputs": [
    {
     "ename": "TypeError",
     "evalue": "astar() takes 2 positional arguments but 3 were given",
     "output_type": "error",
     "traceback": [
      "\u001b[0;31m---------------------------------------------------------------------------\u001b[0m",
      "\u001b[0;31mTypeError\u001b[0m                                 Traceback (most recent call last)",
      "\u001b[0;32m<ipython-input-125-8018e2f6c43d>\u001b[0m in \u001b[0;36m<module>\u001b[0;34m\u001b[0m\n\u001b[1;32m      4\u001b[0m     \u001b[0;32mglobal\u001b[0m \u001b[0mmaze_size\u001b[0m\u001b[0;34m\u001b[0m\u001b[0;34m\u001b[0m\u001b[0m\n\u001b[1;32m      5\u001b[0m \u001b[0;34m\u001b[0m\u001b[0m\n\u001b[0;32m----> 6\u001b[0;31m     \u001b[0msource\u001b[0m\u001b[0;34m,\u001b[0m\u001b[0mtarget\u001b[0m\u001b[0;34m=\u001b[0m\u001b[0mset_valid_source_target\u001b[0m\u001b[0;34m(\u001b[0m\u001b[0;34m)\u001b[0m\u001b[0;34m\u001b[0m\u001b[0;34m\u001b[0m\u001b[0m\n\u001b[0m\u001b[1;32m      7\u001b[0m     \u001b[0mprint\u001b[0m\u001b[0;34m(\u001b[0m\u001b[0msource\u001b[0m\u001b[0;34m,\u001b[0m\u001b[0mtarget\u001b[0m\u001b[0;34m)\u001b[0m\u001b[0;34m\u001b[0m\u001b[0;34m\u001b[0m\u001b[0m\n\u001b[1;32m      8\u001b[0m     \u001b[0mprint\u001b[0m\u001b[0;34m(\u001b[0m\u001b[0mterrain_matrix\u001b[0m\u001b[0;34m)\u001b[0m\u001b[0;34m\u001b[0m\u001b[0;34m\u001b[0m\u001b[0m\n",
      "\u001b[0;32m<ipython-input-124-f642882c2e88>\u001b[0m in \u001b[0;36mset_valid_source_target\u001b[0;34m()\u001b[0m\n\u001b[1;32m     12\u001b[0m         \u001b[0mterrain_matrix\u001b[0m\u001b[0;34m[\u001b[0m\u001b[0msource\u001b[0m\u001b[0;34m[\u001b[0m\u001b[0;36m0\u001b[0m\u001b[0;34m]\u001b[0m\u001b[0;34m,\u001b[0m\u001b[0msource\u001b[0m\u001b[0;34m[\u001b[0m\u001b[0;36m1\u001b[0m\u001b[0;34m]\u001b[0m\u001b[0;34m]\u001b[0m\u001b[0;34m=\u001b[0m\u001b[0mnp\u001b[0m\u001b[0;34m.\u001b[0m\u001b[0mrandom\u001b[0m\u001b[0;34m.\u001b[0m\u001b[0mrandint\u001b[0m\u001b[0;34m(\u001b[0m\u001b[0;36m3\u001b[0m\u001b[0;34m,\u001b[0m\u001b[0msize\u001b[0m\u001b[0;34m=\u001b[0m\u001b[0;36m1\u001b[0m\u001b[0;34m)\u001b[0m\u001b[0;34m\u001b[0m\u001b[0;34m\u001b[0m\u001b[0m\n\u001b[1;32m     13\u001b[0m \u001b[0;34m\u001b[0m\u001b[0m\n\u001b[0;32m---> 14\u001b[0;31m     \u001b[0m_\u001b[0m\u001b[0;34m,\u001b[0m\u001b[0m_\u001b[0m\u001b[0;34m,\u001b[0m\u001b[0m_\u001b[0m\u001b[0;34m,\u001b[0m\u001b[0mpath\u001b[0m \u001b[0;34m=\u001b[0m \u001b[0mastar\u001b[0m\u001b[0;34m(\u001b[0m\u001b[0msource\u001b[0m\u001b[0;34m,\u001b[0m\u001b[0mtarget\u001b[0m\u001b[0;34m,\u001b[0m\u001b[0mfull_grid_world_matrix\u001b[0m\u001b[0;34m)\u001b[0m\u001b[0;34m\u001b[0m\u001b[0;34m\u001b[0m\u001b[0m\n\u001b[0m\u001b[1;32m     15\u001b[0m     \u001b[0;32mif\u001b[0m \u001b[0;34m(\u001b[0m\u001b[0mlen\u001b[0m\u001b[0;34m(\u001b[0m\u001b[0mpath\u001b[0m\u001b[0;34m)\u001b[0m \u001b[0;34m==\u001b[0m \u001b[0;36m0\u001b[0m\u001b[0;34m)\u001b[0m\u001b[0;34m:\u001b[0m\u001b[0;34m\u001b[0m\u001b[0;34m\u001b[0m\u001b[0m\n\u001b[1;32m     16\u001b[0m             \u001b[0;32mreturn\u001b[0m \u001b[0mset_valid_source_target\u001b[0m\u001b[0;34m(\u001b[0m\u001b[0;34m)\u001b[0m\u001b[0;34m\u001b[0m\u001b[0;34m\u001b[0m\u001b[0m\n",
      "\u001b[0;31mTypeError\u001b[0m: astar() takes 2 positional arguments but 3 were given"
     ]
    }
   ],
   "source": [
    "if __name__ == \"__main__\":\n",
    "    global full_grid_world_matrix\n",
    "    global terrain_matrix\n",
    "    global maze_size\n",
    "    \n",
    "    source,target=set_valid_source_target()\n",
    "    print(source,target)\n",
    "    print(terrain_matrix)\n",
    "    run_agent_6(source,target)\n",
    "    \n",
    "    \n",
    "    \n",
    "    \n",
    "        \n",
    "    \n",
    "\n",
    "    "
   ]
  },
  {
   "cell_type": "code",
   "execution_count": null,
   "metadata": {},
   "outputs": [],
   "source": []
  },
  {
   "cell_type": "code",
   "execution_count": null,
   "metadata": {},
   "outputs": [],
   "source": []
  }
 ],
 "metadata": {
  "kernelspec": {
   "display_name": "Python 3 (ipykernel)",
   "language": "python",
   "name": "python3"
  },
  "language_info": {
   "codemirror_mode": {
    "name": "ipython",
    "version": 3
   },
   "file_extension": ".py",
   "mimetype": "text/x-python",
   "name": "python",
   "nbconvert_exporter": "python",
   "pygments_lexer": "ipython3",
   "version": "3.7.10"
  }
 },
 "nbformat": 4,
 "nbformat_minor": 4
}
