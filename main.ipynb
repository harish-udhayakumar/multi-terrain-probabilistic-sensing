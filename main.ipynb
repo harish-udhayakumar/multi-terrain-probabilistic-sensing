{
 "cells": [
  {
   "cell_type": "markdown",
   "metadata": {},
   "source": [
    "# Partial Sensing"
   ]
  },
  {
   "cell_type": "markdown",
   "metadata": {},
   "source": [
    "# About this file\n",
    "\n",
    "This file is to use the functionalities of the classes defined in the other file.\n",
    "\n",
    "## Things to be done here\n",
    "\n",
    "1) write algorithm for agent3, agent4 <br>\n",
    "2) if object_matrix is knowledge base, then lets rename it to knowledge base to avoid confusion and have unambiguous variable names.<br>\n",
    "3) Import A* code into this file.\n",
    "\n",
    "## Things done here\n",
    "\n",
    "1) declared the set of global variables required\n",
    "2) renamed object_matrix to knowledge_base"
   ]
  },
  {
   "cell_type": "code",
   "execution_count": 1,
   "metadata": {},
   "outputs": [],
   "source": [
    "from ipynb.fs.full.a_star import *\n",
    "import numpy as np\n",
    "from ipynb.fs.full.agent_6 import *\n",
    "\n",
    "import random"
   ]
  },
  {
   "cell_type": "code",
   "execution_count": 2,
   "metadata": {},
   "outputs": [],
   "source": [
    "maze_size = 10\n",
    "probability = 0.3\n",
    "\n",
    "global agent_gridworld\n",
    "global helper_matrix\n",
    "global full_grid_world_matrix\n",
    "global visited_list\n",
    "global number_of_bumps\n",
    "global knowledge_base\n",
    "global probability_matrix\n",
    "global terrain_matrix\n",
    "\n",
    "visited_list = []\n",
    "infered_list = []\n",
    "expression_list = []\n",
    "number_of_bumps = 0\n",
    "agent_gridworld = np.matrix(np.zeros((maze_size, maze_size)))\n",
    "confirmed_path = [] #path that agent 3 has recognized\n",
    "helper_matrix = np.full((maze_size, maze_size), 0)\n",
    "probability_matrix = np.full((maze_size, maze_size), 0.0)\n",
    "terrain_matrix = np.full((maze_size, maze_size), 0)\n",
    "full_grid_world_matrix = np.full((maze_size, maze_size), 0)\n",
    "\n",
    "# knowledge_base is used to store the inference/ knowledge base of objects(nodes) with it's respective indices\n",
    "knowledge_base = np.array([agent_6(int(item/maze_size),item%maze_size,maze_size) for item in range(maze_size * maze_size)]).reshape(maze_size, maze_size)\n"
   ]
  },
  {
   "cell_type": "code",
   "execution_count": 3,
   "metadata": {},
   "outputs": [
    {
     "data": {
      "text/plain": [
       "<matplotlib.image.AxesImage at 0x1d6e56b9790>"
      ]
     },
     "execution_count": 3,
     "metadata": {},
     "output_type": "execute_result"
    },
    {
     "data": {
      "image/png": "[encoded data removed]",
      "text/plain": [
       "<Figure size 432x288 with 1 Axes>"
      ]
     },
     "metadata": {
      "needs_background": "light"
     },
     "output_type": "display_data"
    }
   ],
   "source": [
    "# full_grid_world_matrix = populateMatrix(maze_size, probability)\n",
    "\n",
    "#### Use either the above line in the block or the below set of lines of code to get the full grid world\n",
    "\n",
    "full_grid_world_matrix = [[0, 0, 0, 1, 1, 0, 0, 1, 0, 0],\n",
    "        [0, 1, 0, 1, 0, 0, 0, 0, 0, 0],\n",
    "        [0, 0, 0, 0, 0, 1, 0, 0, 0, 0],\n",
    "        [0, 1, 0, 0, 0, 0, 0, 0, 1, 0],\n",
    "        [1, 1, 1, 1, 0, 1, 0, 0, 0, 0],\n",
    "        [0, 1, 0, 0, 1, 1, 0, 0, 0, 1],\n",
    "        [0, 0, 0, 0, 0, 1, 0, 1, 0, 1],\n",
    "        [1, 1, 1, 0, 0, 0, 1, 1, 0, 0],\n",
    "        [0, 0, 0, 0, 0, 0, 0, 0, 0, 0],\n",
    "        [0, 0, 0, 0, 1, 1, 0, 0, 0, 0]]\n",
    "\n",
    "full_grid_world_matrix = np.matrix(full_grid_world_matrix)\n",
    "plt.spy(full_grid_world_matrix)"
   ]
  },
  {
   "cell_type": "code",
   "execution_count": 4,
   "metadata": {},
   "outputs": [],
   "source": [
    "def blockedNeighbors(n, row, col):\n",
    "    \n",
    "    global full_grid_world_matrix\n",
    "    direction_list = [[-1, 0], [1, 0], [1, 1], [1, -1], [-1, -1], [-1, 1], [0, 1], [0, -1]]\n",
    "    \n",
    "    count = 0\n",
    "    for direction in direction_list:\n",
    "        row_new = row + direction[0]\n",
    "        col_new = col + direction[1]\n",
    "        if (row_new>=0 and row_new<=(n-1)) and (col_new>=0 and col_new<=(n-1)):\n",
    "            if full_grid_world_matrix[row_new, col_new] == 1:\n",
    "                count += 1\n",
    "    return count\n",
    "\n",
    "def initialize_helper_matrix(n):\n",
    "    dir = [[-1, 0], [1, 0], [1, 1], [1, -1], [-1, -1], [-1, 1], [0, 1], [0, -1]]\n",
    "    global helper_matrix\n",
    "    for x in range(n):\n",
    "        for y in range(n):\n",
    "            count = blockedNeighbors(n, x, y)\n",
    "            helper_matrix[x][y] = count\n"
   ]
  },
  {
   "cell_type": "code",
   "execution_count": 5,
   "metadata": {},
   "outputs": [],
   "source": [
    "def initialize_terrain_matrix(maze_size):\n",
    "    n = 10\n",
    "    p = 1\n",
    "\n",
    "    # generates number between 0-2\n",
    "    np_array = np.random.randint(3, size=100)\n",
    "\n",
    "    block = lambda x: 2 if x>p else (1 if x<p else 0)\n",
    "    vectorized_block = np.vectorize(block)\n",
    "\n",
    "    np_array = vectorized_block(np_array).reshape(n,n)\n",
    "    terrain_matrix = np.asmatrix(np_array)\n",
    "\n",
    "    return terrain_matrix"
   ]
  },
  {
   "cell_type": "code",
   "execution_count": 6,
   "metadata": {},
   "outputs": [],
   "source": [
    "def initialize_all_matrices(maze_size):\n",
    "    global knowledge_base\n",
    "    initialize_helper_matrix(maze_size)\n",
    "    # initializing getNx\n",
    "    for i in range(maze_size):\n",
    "        for j in range(maze_size):\n",
    "            knowledge_base[i][j].Nx = getNx(i, j, maze_size)\n",
    "            knowledge_base[i][j].Cx = helper_matrix[i][j]\n",
    "            \n",
    "    terrain_matrix = initialize_terrain_matrix(maze_size)"
   ]
  },
  {
   "cell_type": "code",
   "execution_count": 7,
   "metadata": {},
   "outputs": [],
   "source": [
    "def get_agent_gridworld_from_knowledge_base(object_matrix):\n",
    "    global maze_size\n",
    "\n",
    "    agent_gridworld = np.zeros((maze_size, maze_size))\n",
    "    for i in range(maze_size):\n",
    "        for j in range(maze_size):\n",
    "            if object_matrix.item((i,j)).blocked == 1:\n",
    "                agent_gridworld[i][j] = 1\n",
    "    return agent_gridworld"
   ]
  },
  {
   "cell_type": "code",
   "execution_count": 8,
   "metadata": {},
   "outputs": [],
   "source": [
    "def getNx(row, col, n):\n",
    "    if (row ==0  and col == 0) or (row == 0 and col == n-1) or (row==n-1 and col==0) or (row ==n-1 and col==n-1):\n",
    "        return 3\n",
    "    \n",
    "    elif row == 0 or col == 0 or col == n-1 or row == n-1:\n",
    "        return 5\n",
    "    else:\n",
    "        return 8"
   ]
  },
  {
   "cell_type": "code",
   "execution_count": 9,
   "metadata": {},
   "outputs": [],
   "source": [
    "def get_neighbors(row, col, n):\n",
    "    #top left node\n",
    "    if (row ==0  and col == 0) :\n",
    "        return [(row+1, col), (row, col+1), (row+1, col+1)]\n",
    "    \n",
    "    #top right node\n",
    "    elif (row == 0 and col == n-1):\n",
    "        return [(row, col-1), (row+1, col), (row+1, col-1)]\n",
    "    \n",
    "    #bottom left node\n",
    "    elif (row==n-1 and col==0):\n",
    "        return [(row-1, col), (row, col+1), (row-1, col+1)]\n",
    "    \n",
    "    #bottom right node\n",
    "    elif (row ==n-1 and col==n-1):\n",
    "        return [(row-1, col-1), (row, col-1), (row-1, col-1)]\n",
    "\n",
    "    # top edge nodes\n",
    "    elif row == 0:\n",
    "        return [(row, col-1), (row+1, col-1), (row+1, col), (row+1, col+1), (row, col+1)]\n",
    "    \n",
    "    # bottom edge nodes\n",
    "    elif row == n-1:\n",
    "        return [(row, col-1), (row-1, col-1), (row-1, col), (row-1, col+1), (row, col+1)]\n",
    "    \n",
    "    # left edge nodes\n",
    "    elif col == 0:\n",
    "        return [(row-1, col), (row-1, col+1), (row, col+1), (row+1, col+1), (row+1, col)]\n",
    "    \n",
    "    # right edge nodes\n",
    "    elif col == n-1:\n",
    "        return [(row-1, col), (row-1, col-1), (row, col-1), (row+1, col-1), (row+1, col)]\n",
    "    else:\n",
    "        return [(row-1, col-1), (row, col-1), (row+1, col-1), (row+1, col), (row+1, col+1),\\\n",
    "               (row, col+1), (row-1, col+1), (row-1, col)]\n",
    "    \n"
   ]
  },
  {
   "cell_type": "markdown",
   "metadata": {},
   "source": [
    "# Code for Agent 6 goes here"
   ]
  },
  {
   "cell_type": "code",
   "execution_count": 10,
   "metadata": {},
   "outputs": [],
   "source": [
    "def agent6(maze_size, source): # using this name for the lack of a better name. please change.\n",
    "    global visited_list\n",
    "    global number_of_bumps\n",
    "    global knowledge_base\n",
    "    global agent_gridworld\n",
    "    global full_grid_world_matrix\n",
    "    global confirmed_path\n",
    "    global infered_list\n",
    "    global expression_list\n",
    "    global number_of_bumps\n",
    "    global confirmed_path\n",
    "\n",
    "    _,_,_,path = astar(source,agent_gridworld)\n",
    "    path = path[::-1]\n",
    "    print('path', path)\n",
    "    goal_reached = False\n",
    "\n",
    "    if path == []:\n",
    "        return visited_list, number_of_bumps, infered_list, goal_reached\n",
    "\n",
    "    for node in path:\n",
    "        row = node[0]\n",
    "        column = node[1]\n",
    "        knowledge_base[row][column].blocked = helper_matrix[row][col]"
   ]
  },
  {
   "cell_type": "code",
   "execution_count": 11,
   "metadata": {},
   "outputs": [],
   "source": [
    "def normalize_probabilities(node, updated_probability_of_current_node):\n",
    "    sum_of_probabilities = 0\n",
    "    for row in range(maze_size):\n",
    "        for col in range(maze_size):\n",
    "            if row == node[0] and col == node[1]:\n",
    "                continue\n",
    "            else:\n",
    "                sum_of_probabilities += probability_matrix[row][col]\n",
    "    print(\"sum_of_probabilities\", sum_of_probabilities)\n",
    "    Total_probability = updated_probability_of_current_node + sum_of_probabilities\n",
    "    print('Total_probability', Total_probability)\n",
    "    \n",
    "    updated_probability_of_current_node = updated_probability_of_current_node/Total_probability\n",
    "\n",
    "    for row in range(maze_size):\n",
    "        for col in range(maze_size):\n",
    "            if row == node[0] and col == node[1]:\n",
    "                probability_matrix[row][col] = updated_probability_of_current_node\n",
    "            else:\n",
    "                probability_matrix[row][col] = probability_matrix[row][col] / Total_probability\n",
    "    \n",
    "    # verifying total probability = 1\n",
    "    sum_of_probabilities = 0\n",
    "    for row in range(maze_size):\n",
    "        for col in range(maze_size):\n",
    "            sum_of_probabilities += probability_matrix[row][col]\n",
    "    print(\"sum_of_probabilities\", sum_of_probabilities)"
   ]
  },
  {
   "cell_type": "markdown",
   "metadata": {},
   "source": [
    "# Main function"
   ]
  },
  {
   "cell_type": "code",
   "execution_count": 12,
   "metadata": {
    "scrolled": true
   },
   "outputs": [
    {
     "name": "stdout",
     "output_type": "stream",
     "text": [
      "1 3\n",
      "hilly\n",
      "free\n",
      "previous_probability_of_current_node 0.01\n",
      "updated_probability_of_current_node 0.005\n",
      "sum_of_probabilities 0.9900000000000007\n",
      "Total_probability 0.9950000000000007\n",
      "sum_of_probabilities 1.0000000000000016\n",
      "[[0.00502513 0.01005025 0.01005025 0.01005025 0.01005025 0.01005025\n",
      "  0.01005025 0.01005025 0.01005025 0.01005025]\n",
      " [0.01005025 0.01005025 0.01005025 0.01005025 0.01005025 0.01005025\n",
      "  0.01005025 0.01005025 0.01005025 0.01005025]\n",
      " [0.01005025 0.01005025 0.01005025 0.01005025 0.01005025 0.01005025\n",
      "  0.01005025 0.01005025 0.01005025 0.01005025]\n",
      " [0.01005025 0.01005025 0.01005025 0.01005025 0.01005025 0.01005025\n",
      "  0.01005025 0.01005025 0.01005025 0.01005025]\n",
      " [0.01005025 0.01005025 0.01005025 0.01005025 0.01005025 0.01005025\n",
      "  0.01005025 0.01005025 0.01005025 0.01005025]\n",
      " [0.01005025 0.01005025 0.01005025 0.01005025 0.01005025 0.01005025\n",
      "  0.01005025 0.01005025 0.01005025 0.01005025]\n",
      " [0.01005025 0.01005025 0.01005025 0.01005025 0.01005025 0.01005025\n",
      "  0.01005025 0.01005025 0.01005025 0.01005025]\n",
      " [0.01005025 0.01005025 0.01005025 0.01005025 0.01005025 0.01005025\n",
      "  0.01005025 0.01005025 0.01005025 0.01005025]\n",
      " [0.01005025 0.01005025 0.01005025 0.01005025 0.01005025 0.01005025\n",
      "  0.01005025 0.01005025 0.01005025 0.01005025]\n",
      " [0.01005025 0.01005025 0.01005025 0.01005025 0.01005025 0.01005025\n",
      "  0.01005025 0.01005025 0.01005025 0.01005025]]\n",
      "flat\n",
      "free\n",
      "previous_probability_of_current_node 0.0100502512562814\n",
      "updated_probability_of_current_node 0.0020100502512562803\n",
      "sum_of_probabilities 0.9899497487437202\n",
      "Total_probability 0.9919597989949765\n",
      "sum_of_probabilities 0.9999999999999982\n",
      "[[0.00506586 0.00202634 0.01013171 0.01013171 0.01013171 0.01013171\n",
      "  0.01013171 0.01013171 0.01013171 0.01013171]\n",
      " [0.01013171 0.01013171 0.01013171 0.01013171 0.01013171 0.01013171\n",
      "  0.01013171 0.01013171 0.01013171 0.01013171]\n",
      " [0.01013171 0.01013171 0.01013171 0.01013171 0.01013171 0.01013171\n",
      "  0.01013171 0.01013171 0.01013171 0.01013171]\n",
      " [0.01013171 0.01013171 0.01013171 0.01013171 0.01013171 0.01013171\n",
      "  0.01013171 0.01013171 0.01013171 0.01013171]\n",
      " [0.01013171 0.01013171 0.01013171 0.01013171 0.01013171 0.01013171\n",
      "  0.01013171 0.01013171 0.01013171 0.01013171]\n",
      " [0.01013171 0.01013171 0.01013171 0.01013171 0.01013171 0.01013171\n",
      "  0.01013171 0.01013171 0.01013171 0.01013171]\n",
      " [0.01013171 0.01013171 0.01013171 0.01013171 0.01013171 0.01013171\n",
      "  0.01013171 0.01013171 0.01013171 0.01013171]\n",
      " [0.01013171 0.01013171 0.01013171 0.01013171 0.01013171 0.01013171\n",
      "  0.01013171 0.01013171 0.01013171 0.01013171]\n",
      " [0.01013171 0.01013171 0.01013171 0.01013171 0.01013171 0.01013171\n",
      "  0.01013171 0.01013171 0.01013171 0.01013171]\n",
      " [0.01013171 0.01013171 0.01013171 0.01013171 0.01013171 0.01013171\n",
      "  0.01013171 0.01013171 0.01013171 0.01013171]]\n"
     ]
    }
   ],
   "source": [
    "if __name__ == \"__main__\":\n",
    "    initialize_all_matrices(maze_size)\n",
    "\n",
    "    # initializing a random target\n",
    "    target_row = random.randint(0, maze_size-1)\n",
    "    target_col = random.randint(0, maze_size-1)\n",
    "    print(target_row, target_col)\n",
    "    full_grid_world_matrix.itemset((target_row, target_col), 99)\n",
    "    \n",
    "#     full_grid_world_matrix[target_row][target_col] = 99\n",
    "\n",
    "    terrain_matrix = initialize_terrain_matrix(10)\n",
    "    terrain_list = ['flat', 'hilly', 'forest']\n",
    "    false_negative_rates = [0.2, 0.5, 0.8]\n",
    "\n",
    "    terrain_matrix = [[1, 0, 0, 1, 1, 0, 2, 2, 0, 2],\n",
    "        [0, 1, 2, 2, 2, 2, 2, 0, 1, 2],\n",
    "        [0, 2, 2, 2, 2, 2, 1, 2, 1, 0],\n",
    "        [1, 2, 2, 1, 2, 1, 1, 2, 0, 0],\n",
    "        [1, 1, 2, 0, 1, 1, 0, 0, 0, 2],\n",
    "        [0, 0, 0, 1, 0, 0, 0, 1, 0, 1],\n",
    "        [1, 0, 2, 2, 1, 0, 2, 2, 2, 0],\n",
    "        [1, 0, 1, 0, 0, 1, 1, 1, 2, 1],\n",
    "        [1, 2, 2, 0, 2, 2, 0, 0, 1, 2],\n",
    "        [2, 2, 1, 1, 0, 0, 0, 0, 0, 0]]\n",
    "    terrain_matrix = np.matrix(terrain_matrix)\n",
    "\n",
    "    \n",
    "    initial_probability = 1/(maze_size * maze_size)\n",
    "    \n",
    "    for row in range(len(knowledge_base)):\n",
    "        for col in range(len(knowledge_base)):\n",
    "            probability_matrix[row][col] = float(initial_probability)\n",
    "\n",
    "    path = [(0,0), (0,1)]\n",
    "\n",
    "    for node in path:\n",
    "        row = node[0]\n",
    "        col = node[1]\n",
    "\n",
    "        terrain_index = terrain_matrix[node]\n",
    "        terrain_type = terrain_list[terrain_index]\n",
    "        false_negative_rate = false_negative_rates[terrain_index]\n",
    "\n",
    "        print(terrain_type)\n",
    "\n",
    "        if full_grid_world_matrix[node] == 0:\n",
    "            print('free')\n",
    "            previous_probability_of_current_node = probability_matrix[row][col]\n",
    "            updated_probability_of_current_node = false_negative_rate * previous_probability_of_current_node\n",
    "            print('previous_probability_of_current_node', previous_probability_of_current_node)\n",
    "            print(\"updated_probability_of_current_node\", updated_probability_of_current_node)\n",
    "            \n",
    "            normalize_probabilities(node, updated_probability_of_current_node)\n",
    "            print(probability_matrix)\n",
    "        elif full_grid_world_matrix[node] == 1:\n",
    "            print('blocked')\n",
    "        elif full_grid_world_matrix[node] == 999:\n",
    "            print(\"Target found\")\n",
    "            break"
   ]
  },
  {
   "cell_type": "markdown",
   "metadata": {},
   "source": [
    "Test"
   ]
  },
  {
   "cell_type": "code",
   "execution_count": null,
   "metadata": {},
   "outputs": [],
   "source": []
  }
 ],
 "metadata": {
  "kernelspec": {
   "display_name": "Python 3",
   "language": "python",
   "name": "python3"
  },
  "language_info": {
   "codemirror_mode": {
    "name": "ipython",
    "version": 3
   },
   "file_extension": ".py",
   "mimetype": "text/x-python",
   "name": "python",
   "nbconvert_exporter": "python",
   "pygments_lexer": "ipython3",
   "version": "3.8.8"
  }
 },
 "nbformat": 4,
 "nbformat_minor": 4
}
