{
 "cells": [
  {
   "cell_type": "markdown",
   "metadata": {},
   "source": [
    "# Partial Sensing"
   ]
  },
  {
   "cell_type": "markdown",
   "metadata": {},
   "source": [
    "# About this file\n",
    "\n",
    "This file is to use the functionalities of the classes defined in the other file.\n",
    "\n",
    "## Things to be done here\n",
    "\n",
    "1) write algorithm for agent3, agent4 <br>\n",
    "2) if object_matrix is knowledge base, then lets rename it to knowledge base to avoid confusion and have unambiguous variable names.<br>\n",
    "3) Import A* code into this file.\n",
    "\n",
    "## Things done here\n",
    "\n",
    "1) declared the set of global variables required\n",
    "2) renamed object_matrix to knowledge_base"
   ]
  },
  {
   "cell_type": "code",
   "execution_count": 1,
   "metadata": {},
   "outputs": [
    {
     "name": "stdout",
     "output_type": "stream",
     "text": [
      "<class 'numpy.matrix'>\n",
      "A*: \n",
      "There is no path available to goal Node\n"
     ]
    },
    {
     "data": {
      "image/png": "[encoded data removed]",
      "text/plain": [
       "<Figure size 432x288 with 1 Axes>"
      ]
     },
     "metadata": {
      "needs_background": "light"
     },
     "output_type": "display_data"
    },
    {
     "name": "stdout",
     "output_type": "stream",
     "text": [
      "shortest path A*:  []\n"
     ]
    },
    {
     "data": {
      "image/png": "[encoded data removed]",
      "text/plain": [
       "<Figure size 432x288 with 1 Axes>"
      ]
     },
     "metadata": {
      "needs_background": "light"
     },
     "output_type": "display_data"
    },
    {
     "name": "stdout",
     "output_type": "stream",
     "text": [
      "Actual Gridworld\n"
     ]
    },
    {
     "data": {
      "image/png": "[encoded data removed]",
      "text/plain": [
       "<Figure size 432x288 with 1 Axes>"
      ]
     },
     "metadata": {
      "needs_background": "light"
     },
     "output_type": "display_data"
    }
   ],
   "source": [
    "from ipynb.fs.full.a_star import *\n",
    "import numpy as np\n",
    "from ipynb.fs.full.agent_6 import *\n",
    "from scipy.spatial.distance import cityblock\n",
    "import random\n",
    "import sys"
   ]
  },
  {
   "cell_type": "code",
   "execution_count": 2,
   "metadata": {},
   "outputs": [],
   "source": [
    "maze_size = 4\n",
    "probability = 0.3\n",
    "\n",
    "global agent_gridworld\n",
    "global helper_matrix\n",
    "global full_grid_world_matrix\n",
    "global visited_list\n",
    "global number_of_bumps\n",
    "global knowledge_base\n",
    "global probability_matrix\n",
    "global terrain_matrix\n",
    "global final_path\n",
    "global goal_reached\n",
    "\n",
    "goal_reached = False\n",
    "visited_list = []\n",
    "final_path = []\n",
    "agent_gridworld = np.matrix(np.zeros((maze_size, maze_size)))\n",
    "confirmed_path = [] #path that agent 3 has recognized\n",
    "helper_matrix = np.full((maze_size, maze_size), 0)\n",
    "probability_matrix = np.full((maze_size, maze_size), 0.0)\n",
    "terrain_matrix = np.full((maze_size, maze_size), 0)\n",
    "full_grid_world_matrix = np.full((maze_size, maze_size), 0)\n",
    "\n",
    "# knowledge_base is used to store the inference/ knowledge base of objects(nodes) with it's respective indices\n",
    "knowledge_base = np.array([agent_6(int(item/maze_size),item%maze_size,maze_size) for item in range(maze_size * maze_size)]).reshape(maze_size, maze_size)\n"
   ]
  },
  {
   "cell_type": "code",
   "execution_count": 3,
   "metadata": {},
   "outputs": [
    {
     "data": {
      "text/plain": [
       "<matplotlib.image.AxesImage at 0x1c1f2542af0>"
      ]
     },
     "execution_count": 3,
     "metadata": {},
     "output_type": "execute_result"
    },
    {
     "data": {
      "image/png": "[encoded data removed]",
      "text/plain": [
       "<Figure size 432x288 with 1 Axes>"
      ]
     },
     "metadata": {
      "needs_background": "light"
     },
     "output_type": "display_data"
    }
   ],
   "source": [
    "# full_grid_world_matrix = populateMatrix(maze_size, probability)\n",
    "\n",
    "#### Use either the above line in the block or the below set of lines of code to get the full grid world\n",
    "\n",
    "# full_grid_world_matrix = [[0, 0, 0, 1, 1, 0, 0, 1, 0, 0],\n",
    "#         [0, 1, 0, 1, 0, 0, 0, 0, 0, 0],\n",
    "#         [0, 0, 0, 0, 0, 1, 0, 0, 0, 0],\n",
    "#         [0, 1, 0, 0, 0, 0, 0, 0, 1, 0],\n",
    "#         [1, 1, 1, 1, 0, 1, 0, 0, 0, 0],\n",
    "#         [0, 1, 0, 0, 1, 1, 0, 0, 0, 1],\n",
    "#         [0, 0, 0, 0, 0, 1, 0, 1, 0, 1],\n",
    "#         [1, 1, 1, 0, 0, 0, 1, 1, 0, 0],\n",
    "#         [0, 0, 0, 0, 0, 0, 0, 0, 0, 0],\n",
    "#         [0, 0, 0, 0, 1, 1, 0, 0, 0, 0]]\n",
    "\n",
    "full_grid_world_matrix = [[0, 0, 0, 1],\n",
    "        [0, 1, 0, 1],\n",
    "        [0, 0, 0, 0],\n",
    "        [0, 1, 0, 0]]\n",
    "\n",
    "full_grid_world_matrix = np.matrix(full_grid_world_matrix)\n",
    "plt.spy(full_grid_world_matrix)"
   ]
  },
  {
   "cell_type": "code",
   "execution_count": 4,
   "metadata": {},
   "outputs": [],
   "source": [
    "def blockedNeighbors(n, row, col):\n",
    "    \n",
    "    global full_grid_world_matrix\n",
    "    direction_list = [[-1, 0], [1, 0], [1, 1], [1, -1], [-1, -1], [-1, 1], [0, 1], [0, -1]]\n",
    "    \n",
    "    count = 0\n",
    "    for direction in direction_list:\n",
    "        row_new = row + direction[0]\n",
    "        col_new = col + direction[1]\n",
    "        if (row_new>=0 and row_new<=(n-1)) and (col_new>=0 and col_new<=(n-1)):\n",
    "            if full_grid_world_matrix[row_new, col_new] == 1:\n",
    "                count += 1\n",
    "    return count\n",
    "\n",
    "def initialize_helper_matrix(n):\n",
    "    dir = [[-1, 0], [1, 0], [1, 1], [1, -1], [-1, -1], [-1, 1], [0, 1], [0, -1]]\n",
    "    global helper_matrix\n",
    "    for x in range(n):\n",
    "        for y in range(n):\n",
    "            count = blockedNeighbors(n, x, y)\n",
    "            helper_matrix[x][y] = count\n"
   ]
  },
  {
   "cell_type": "code",
   "execution_count": 5,
   "metadata": {},
   "outputs": [],
   "source": [
    "def initialize_terrain_matrix(maze_size):\n",
    "    n = 10\n",
    "    p = 1\n",
    "\n",
    "    # generates number between 0-2\n",
    "    np_array = np.random.randint(3, size=100)\n",
    "\n",
    "    block = lambda x: 2 if x>p else (1 if x<p else 0)\n",
    "    vectorized_block = np.vectorize(block)\n",
    "\n",
    "    np_array = vectorized_block(np_array).reshape(n,n)\n",
    "    terrain_matrix = np.asmatrix(np_array)\n",
    "\n",
    "    return terrain_matrix"
   ]
  },
  {
   "cell_type": "code",
   "execution_count": 6,
   "metadata": {},
   "outputs": [],
   "source": [
    "def initialize_probability_matrix(maze_size):\n",
    "    initial_probability = 1/(maze_size * maze_size)\n",
    "    \n",
    "    for row in range(len(knowledge_base)):\n",
    "        for col in range(len(knowledge_base)):\n",
    "            probability_matrix[row][col] = float(initial_probability)"
   ]
  },
  {
   "cell_type": "code",
   "execution_count": 7,
   "metadata": {},
   "outputs": [],
   "source": [
    "def initialize_all_matrices(maze_size):\n",
    "    global knowledge_base\n",
    "    initialize_helper_matrix(maze_size)\n",
    "    # initializing getNx\n",
    "    for i in range(maze_size):\n",
    "        for j in range(maze_size):\n",
    "            knowledge_base[i][j].Nx = getNx(i, j, maze_size)\n",
    "            knowledge_base[i][j].Cx = helper_matrix[i][j]\n",
    "            \n",
    "    terrain_matrix = initialize_terrain_matrix(maze_size)\n",
    "    probability_matrix = initialize_probability_matrix(maze_size)"
   ]
  },
  {
   "cell_type": "code",
   "execution_count": 8,
   "metadata": {},
   "outputs": [],
   "source": [
    "def get_agent_gridworld_from_knowledge_base(object_matrix):\n",
    "    global maze_size\n",
    "\n",
    "    agent_gridworld = np.zeros((maze_size, maze_size))\n",
    "    for i in range(maze_size):\n",
    "        for j in range(maze_size):\n",
    "            if object_matrix.item((i,j)).blocked == 1:\n",
    "                agent_gridworld[i][j] = 1\n",
    "    return agent_gridworld"
   ]
  },
  {
   "cell_type": "code",
   "execution_count": 9,
   "metadata": {},
   "outputs": [],
   "source": [
    "def getNx(row, col, n):\n",
    "    if (row ==0  and col == 0) or (row == 0 and col == n-1) or (row==n-1 and col==0) or (row ==n-1 and col==n-1):\n",
    "        return 3\n",
    "    \n",
    "    elif row == 0 or col == 0 or col == n-1 or row == n-1:\n",
    "        return 5\n",
    "    else:\n",
    "        return 8"
   ]
  },
  {
   "cell_type": "code",
   "execution_count": 10,
   "metadata": {},
   "outputs": [],
   "source": [
    "def get_neighbors(row, col, n):\n",
    "    #top left node\n",
    "    if (row ==0  and col == 0) :\n",
    "        return [(row+1, col), (row, col+1), (row+1, col+1)]\n",
    "    \n",
    "    #top right node\n",
    "    elif (row == 0 and col == n-1):\n",
    "        return [(row, col-1), (row+1, col), (row+1, col-1)]\n",
    "    \n",
    "    #bottom left node\n",
    "    elif (row==n-1 and col==0):\n",
    "        return [(row-1, col), (row, col+1), (row-1, col+1)]\n",
    "    \n",
    "    #bottom right node\n",
    "    elif (row ==n-1 and col==n-1):\n",
    "        return [(row-1, col-1), (row, col-1), (row-1, col-1)]\n",
    "\n",
    "    # top edge nodes\n",
    "    elif row == 0:\n",
    "        return [(row, col-1), (row+1, col-1), (row+1, col), (row+1, col+1), (row, col+1)]\n",
    "    \n",
    "    # bottom edge nodes\n",
    "    elif row == n-1:\n",
    "        return [(row, col-1), (row-1, col-1), (row-1, col), (row-1, col+1), (row, col+1)]\n",
    "    \n",
    "    # left edge nodes\n",
    "    elif col == 0:\n",
    "        return [(row-1, col), (row-1, col+1), (row, col+1), (row+1, col+1), (row+1, col)]\n",
    "    \n",
    "    # right edge nodes\n",
    "    elif col == n-1:\n",
    "        return [(row-1, col), (row-1, col-1), (row, col-1), (row+1, col-1), (row+1, col)]\n",
    "    else:\n",
    "        return [(row-1, col-1), (row, col-1), (row+1, col-1), (row+1, col), (row+1, col+1),\\\n",
    "               (row, col+1), (row-1, col+1), (row-1, col)]\n",
    "    \n"
   ]
  },
  {
   "cell_type": "markdown",
   "metadata": {},
   "source": [
    "# Code for Agent 6 goes here"
   ]
  },
  {
   "cell_type": "code",
   "execution_count": 11,
   "metadata": {},
   "outputs": [],
   "source": [
    "def agent6(maze_size, source): # using this name for the lack of a better name. please change.\n",
    "    global visited_list\n",
    "    global number_of_bumps\n",
    "    global knowledge_base\n",
    "    global agent_gridworld\n",
    "    global full_grid_world_matrix\n",
    "    global confirmed_path\n",
    "    global infered_list\n",
    "    global expression_list\n",
    "    global number_of_bumps\n",
    "    global confirmed_path\n",
    "\n",
    "    _,_,_,path = astar(source,agent_gridworld)\n",
    "    path = path[::-1]\n",
    "    print('path', path)\n",
    "    goal_reached = False\n",
    "\n",
    "    if path == []:\n",
    "        return visited_list, number_of_bumps, infered_list, goal_reached\n",
    "\n",
    "    for node in path:\n",
    "        row = node[0]\n",
    "        column = node[1]\n",
    "        knowledge_base[row][column].blocked = helper_matrix[row][col]"
   ]
  },
  {
   "cell_type": "code",
   "execution_count": 12,
   "metadata": {},
   "outputs": [],
   "source": [
    "def normalize_probabilities(node, updated_probability_of_current_node):\n",
    "    sum_of_probabilities = 0\n",
    "    for row in range(maze_size):\n",
    "        for col in range(maze_size):\n",
    "            if row == node[0] and col == node[1]:\n",
    "                continue\n",
    "            else:\n",
    "                sum_of_probabilities += probability_matrix[row][col]\n",
    "#     print(\"sum_of_probabilities\", sum_of_probabilities)\n",
    "    Total_probability = updated_probability_of_current_node + sum_of_probabilities\n",
    "#     print('Total_probability', Total_probability)\n",
    "    \n",
    "    updated_probability_of_current_node = updated_probability_of_current_node/Total_probability\n",
    "\n",
    "    for row in range(maze_size):\n",
    "        for col in range(maze_size):\n",
    "            if row == node[0] and col == node[1]:\n",
    "                probability_matrix[row][col] = updated_probability_of_current_node\n",
    "            else:\n",
    "                probability_matrix[row][col] = probability_matrix[row][col] / Total_probability\n",
    "    \n",
    "    # verifying total probability = 1\n",
    "    sum_of_probabilities = 0\n",
    "    for row in range(maze_size):\n",
    "        for col in range(maze_size):\n",
    "            sum_of_probabilities += probability_matrix[row][col]\n",
    "#     print(\"sum_of_probabilities\", sum_of_probabilities)"
   ]
  },
  {
   "cell_type": "code",
   "execution_count": 13,
   "metadata": {},
   "outputs": [],
   "source": [
    "def node_with_highest_probability(probability_matrix, current_node = (0,0)):\n",
    "    identical_probabilities = np.all(probability_matrix == probability_matrix[0])\n",
    "    \n",
    "    max_probability = probability_matrix.max()\n",
    "#     print('max_probability', max_probability)\n",
    "\n",
    "    condition = probability_matrix == probability_matrix.max()\n",
    "    occurrence_of_max_probabilities = np.count_nonzero(condition)\n",
    "\n",
    "    if occurrence_of_max_probabilities > 1:\n",
    "        previous_manhattan_distance = 99999\n",
    "\n",
    "        occurences = list(np.where(probability_matrix == max_probability))\n",
    "        number_of_occurrences = len(occurences[0])\n",
    "        for index in range(number_of_occurrences):\n",
    "            _row = occurences[0][index]\n",
    "            _col = occurences[1][index]\n",
    "            \n",
    "            target_node = [(_row, _col)]\n",
    "#             print('current_node', current_node)\n",
    "#             print(\"target_node\", target_node)\n",
    "            # find manhattan distance\n",
    "            current_manhattan_distance = cityblock([current_node], target_node)\n",
    "            # code for finding manhattan distance between current node and the node in loop\n",
    "            if current_manhattan_distance < previous_manhattan_distance and target_node != [current_node]:\n",
    "                previous_manhattan_distance = current_manhattan_distance\n",
    "                node_to_return = target_node\n",
    "    else:\n",
    "        max_node = list(np.where(probability_matrix == max_probability))\n",
    "        row = max_node[0][0]\n",
    "        col = max_node[1][0]\n",
    "        node_to_return = (row, col)\n",
    "    return node_to_return"
   ]
  },
  {
   "cell_type": "code",
   "execution_count": 14,
   "metadata": {},
   "outputs": [],
   "source": [
    "def agent_6(source):\n",
    "    global final_path\n",
    "    global goal_reached\n",
    "\n",
    "    terrain_matrix = initialize_terrain_matrix(10)\n",
    "    terrain_list = ['flat', 'hilly', 'forest']\n",
    "    false_negative_rates = [0.2, 0.5, 0.8]\n",
    "    \n",
    "    terrain_matrix = [[1, 0, 0, 1, 1, 0, 2, 2, 0, 2],\n",
    "        [0, 1, 2, 2, 2, 2, 2, 0, 1, 2],\n",
    "        [0, 2, 2, 2, 2, 2, 1, 2, 1, 0],\n",
    "        [1, 2, 2, 1, 2, 1, 1, 2, 0, 0],\n",
    "        [1, 1, 2, 0, 1, 1, 0, 0, 0, 2],\n",
    "        [0, 0, 0, 1, 0, 0, 0, 1, 0, 1],\n",
    "        [1, 0, 2, 2, 1, 0, 2, 2, 2, 0],\n",
    "        [1, 0, 1, 0, 0, 1, 1, 1, 2, 1],\n",
    "        [1, 2, 2, 0, 2, 2, 0, 0, 1, 2],\n",
    "        [2, 2, 1, 1, 0, 0, 0, 0, 0, 0]]\n",
    "    terrain_matrix = np.matrix(terrain_matrix)\n",
    "    \n",
    "    \n",
    "#     path = [(0,0), (0,1)]\n",
    "    \n",
    "    while goal_reached == False:\n",
    "        highest_probability_node = node_with_highest_probability(probability_matrix, source)[0]\n",
    "        print(\"source\", source)\n",
    "        print(\"temporary target\", highest_probability_node)\n",
    "        path = astar(source + (0,), agent_gridworld, highest_probability_node)[0]\n",
    "        print('path', path)\n",
    "        for node in path:\n",
    "            print('node', node)\n",
    "            row = node[0]\n",
    "            col = node[1]\n",
    "\n",
    "            terrain_index = terrain_matrix[node]\n",
    "            terrain_type = terrain_list[terrain_index]\n",
    "            false_negative_rate = false_negative_rates[terrain_index]\n",
    "\n",
    "            print(terrain_type)\n",
    "\n",
    "            if full_grid_world_matrix[node] == 0:\n",
    "                print('free')\n",
    "                if node not in final_path:\n",
    "                    final_path.append(node)\n",
    "    #             previous_probability_of_current_node = probability_matrix[row][col]\n",
    "                updated_probability_of_current_node = false_negative_rate * probability_matrix[row][col]\n",
    "                print('previous_probability_of_current_node', probability_matrix[row][col])\n",
    "                print(\"updated_probability_of_current_node\", updated_probability_of_current_node)\n",
    "\n",
    "                normalize_probabilities(node, updated_probability_of_current_node)\n",
    "    #             print(probability_matrix)\n",
    "            elif full_grid_world_matrix[node] == 1:\n",
    "                probability_matrix[row][col] = 0\n",
    "\n",
    "                normalize_probabilities(node, updated_probability_of_current_node)\n",
    "                agent_gridworld.itemset((row, col), 1)\n",
    "                source = final_path[-1] #last visited node in the path\n",
    "                agent_6(source)\n",
    "\n",
    "                print('blocked')\n",
    "            elif full_grid_world_matrix[node] == 999:\n",
    "                goal_reached = True\n",
    "                final_path.append(node)\n",
    "                print(\"Target found\")\n",
    "                return final_path"
   ]
  },
  {
   "cell_type": "markdown",
   "metadata": {},
   "source": [
    "# Main function"
   ]
  },
  {
   "cell_type": "code",
   "execution_count": 15,
   "metadata": {
    "scrolled": true
   },
   "outputs": [
    {
     "name": "stdout",
     "output_type": "stream",
     "text": [
      "Actual target (3, 3)\n",
      "source (0, 0)\n",
      "temporary target (0, 1)\n",
      "Reached Goal!!!!!!!!!!!!!!!!!!!!!!!\n",
      "path [(0, 0), (1, 0), (0, 1)]\n",
      "node (0, 0)\n",
      "hilly\n",
      "free\n",
      "previous_probability_of_current_node 0.0625\n",
      "updated_probability_of_current_node 0.03125\n",
      "node (1, 0)\n",
      "flat\n",
      "free\n",
      "previous_probability_of_current_node 0.06451612903225806\n",
      "updated_probability_of_current_node 0.012903225806451613\n",
      "node (0, 1)\n",
      "flat\n",
      "free\n",
      "previous_probability_of_current_node 0.06802721088435376\n",
      "updated_probability_of_current_node 0.013605442176870753\n",
      "source (0, 0)\n",
      "temporary target (0, 2)\n",
      "Reached Goal!!!!!!!!!!!!!!!!!!!!!!!\n",
      "path [(0, 0), (1, 0), (0, 1), (2, 0), (1, 1), (3, 0), (2, 1), (3, 1), (3, 2), (3, 3), (2, 3), (1, 3), (2, 2), (1, 2), (0, 3), (0, 2)]\n",
      "node (0, 0)\n",
      "hilly\n",
      "free\n",
      "previous_probability_of_current_node 0.03597122302158272\n",
      "updated_probability_of_current_node 0.01798561151079136\n",
      "node (1, 0)\n",
      "flat\n",
      "free\n",
      "previous_probability_of_current_node 0.01465201465201465\n",
      "updated_probability_of_current_node 0.0029304029304029304\n",
      "node (0, 1)\n",
      "flat\n",
      "free\n",
      "previous_probability_of_current_node 0.014825796886582658\n",
      "updated_probability_of_current_node 0.002965159377316532\n",
      "node (2, 0)\n",
      "flat\n",
      "free\n",
      "previous_probability_of_current_node 0.07501875468867218\n",
      "updated_probability_of_current_node 0.015003750937734437\n",
      "node (1, 1)\n",
      "hilly\n",
      "source (2, 0)\n",
      "temporary target (2, 1)\n",
      "Reached Goal!!!!!!!!!!!!!!!!!!!!!!!\n",
      "path [(2, 0), (3, 0), (2, 1)]\n",
      "node (2, 0)\n",
      "flat\n",
      "free\n",
      "previous_probability_of_current_node 0.01706776337396263\n",
      "updated_probability_of_current_node 0.0034135526747925264\n",
      "node (3, 0)\n",
      "hilly\n",
      "free\n",
      "previous_probability_of_current_node 0.08652018165992831\n",
      "updated_probability_of_current_node 0.043260090829964154\n",
      "node (2, 1)\n",
      "forest\n",
      "free\n",
      "previous_probability_of_current_node 0.09043229077271779\n",
      "updated_probability_of_current_node 0.07234583261817423\n",
      "source (2, 0)\n",
      "temporary target (2, 2)\n",
      "Reached Goal!!!!!!!!!!!!!!!!!!!!!!!\n",
      "path [(2, 0), (3, 0), (2, 1), (3, 1), (3, 2), (3, 3), (2, 3), (1, 3), (2, 2)]\n",
      "node (2, 0)\n",
      "flat\n",
      "free\n",
      "previous_probability_of_current_node 0.003683920708650375\n",
      "updated_probability_of_current_node 0.000736784141730075\n",
      "node (3, 0)\n",
      "hilly\n",
      "free\n",
      "previous_probability_of_current_node 0.046185122722151827\n",
      "updated_probability_of_current_node 0.023092561361075913\n",
      "node (2, 1)\n",
      "forest\n",
      "free\n",
      "previous_probability_of_current_node 0.07564298666657587\n",
      "updated_probability_of_current_node 0.0605143893332607\n",
      "node (3, 1)\n",
      "forest\n",
      "source (2, 1)\n",
      "temporary target (2, 2)\n",
      "Reached Goal!!!!!!!!!!!!!!!!!!!!!!!\n",
      "path [(2, 1), (2, 2)]\n",
      "node (2, 1)\n",
      "forest\n",
      "free\n",
      "previous_probability_of_current_node 0.06370495244329612\n",
      "updated_probability_of_current_node 0.0509639619546369\n",
      "node (2, 2)\n",
      "forest\n",
      "free\n",
      "previous_probability_of_current_node 0.10082358047248263\n",
      "updated_probability_of_current_node 0.08065886437798611\n",
      "source (2, 1)\n",
      "temporary target (1, 2)\n",
      "Reached Goal!!!!!!!!!!!!!!!!!!!!!!!\n",
      "path [(2, 1), (2, 2), (3, 2), (2, 3), (3, 3), (1, 3), (0, 3), (1, 2)]\n",
      "node (2, 1)\n",
      "forest\n",
      "free\n",
      "previous_probability_of_current_node 0.0526840317447576\n",
      "updated_probability_of_current_node 0.042147225395806086\n",
      "node (2, 2)\n",
      "forest\n",
      "free\n",
      "previous_probability_of_current_node 0.0831954135630182\n",
      "updated_probability_of_current_node 0.06655633085041456\n",
      "node (3, 2)\n",
      "forest\n",
      "free\n",
      "previous_probability_of_current_node 0.1057539150942069\n",
      "updated_probability_of_current_node 0.08460313207536552\n",
      "node (2, 3)\n",
      "forest\n",
      "free\n",
      "previous_probability_of_current_node 0.1080390250710519\n",
      "updated_probability_of_current_node 0.08643122005684152\n",
      "node (3, 3)\n",
      "hilly\n",
      "Target found\n",
      "blocked\n",
      "node (3, 2)\n",
      "forest\n",
      "free\n",
      "previous_probability_of_current_node 0.08834005473448903\n",
      "updated_probability_of_current_node 0.07067204378759122\n",
      "node (3, 3)\n",
      "hilly\n",
      "Target found\n",
      "blocked\n",
      "node (3, 0)\n",
      "hilly\n",
      "free\n",
      "previous_probability_of_current_node 0.0281027874610276\n",
      "updated_probability_of_current_node 0.0140513937305138\n",
      "node (2, 1)\n",
      "forest\n",
      "free\n",
      "previous_probability_of_current_node 0.046699804313697336\n",
      "updated_probability_of_current_node 0.03735984345095787\n",
      "node (3, 1)\n",
      "forest\n",
      "blocked\n",
      "node (3, 2)\n",
      "forest\n",
      "free\n",
      "previous_probability_of_current_node 0.07634228390467866\n",
      "updated_probability_of_current_node 0.06107382712374293\n",
      "node (3, 3)\n",
      "hilly\n",
      "Target found\n",
      "Probabilistic path that the agent traversed:  [(0, 0), (1, 0), (0, 1), (2, 0), (3, 0), (2, 1), (2, 2), (3, 2), (2, 3), (3, 3), (3, 3), (3, 3)]\n"
     ]
    }
   ],
   "source": [
    "if __name__ == \"__main__\":\n",
    "    initialize_all_matrices(maze_size)\n",
    "    \n",
    "    # initializing a random target\n",
    "    target_row = random.randint(0, maze_size-1)\n",
    "    target_col = random.randint(0, maze_size-1)\n",
    "#     print(\"Actual target\", (target_row, target_col))\n",
    "    #setting target\n",
    "#     full_grid_world_matrix.itemset((target_row, target_col), 99)\n",
    "    full_grid_world_matrix.itemset((3, 3), 999)\n",
    "    print(\"Actual target\", (3, 3))\n",
    "    \n",
    "    \n",
    "    # initialize random source\n",
    "    source_row = random.randint(0, maze_size-1)\n",
    "    source_col = random.randint(0, maze_size-1)\n",
    "#     full_grid_world_matrix.itemset((source_row, source_col), 0)\n",
    "    \n",
    "#     agent_6((source_row, source_col))\n",
    "    full_grid_world_matrix.itemset((0, 0), 0)\n",
    "    path = agent_6((0, 0))\n",
    "    print(\"Probabilistic path that the agent traversed: \", path)"
   ]
  },
  {
   "cell_type": "markdown",
   "metadata": {},
   "source": [
    "Test"
   ]
  },
  {
   "cell_type": "code",
   "execution_count": 16,
   "metadata": {},
   "outputs": [
    {
     "data": {
      "text/plain": [
       "<matplotlib.image.AxesImage at 0x1c1f25b3760>"
      ]
     },
     "execution_count": 16,
     "metadata": {},
     "output_type": "execute_result"
    },
    {
     "data": {
      "image/png": "[encoded data removed]",
      "text/plain": [
       "<Figure size 432x288 with 1 Axes>"
      ]
     },
     "metadata": {
      "needs_background": "light"
     },
     "output_type": "display_data"
    }
   ],
   "source": [
    "full_grid_world_matrix\n",
    "plt.spy(full_grid_world_matrix)"
   ]
  },
  {
   "cell_type": "code",
   "execution_count": 17,
   "metadata": {},
   "outputs": [
    {
     "data": {
      "text/plain": [
       "matrix([[  0,   0,   0,   1],\n",
       "        [  0,   1,   0,   1],\n",
       "        [  0,   0,   0,   0],\n",
       "        [  0,   1,   0, 999]])"
      ]
     },
     "execution_count": 17,
     "metadata": {},
     "output_type": "execute_result"
    }
   ],
   "source": [
    "full_grid_world_matrix"
   ]
  },
  {
   "cell_type": "code",
   "execution_count": null,
   "metadata": {},
   "outputs": [],
   "source": []
  },
  {
   "cell_type": "code",
   "execution_count": null,
   "metadata": {},
   "outputs": [],
   "source": []
  }
 ],
 "metadata": {
  "kernelspec": {
   "display_name": "Python 3",
   "language": "python",
   "name": "python3"
  },
  "language_info": {
   "codemirror_mode": {
    "name": "ipython",
    "version": 3
   },
   "file_extension": ".py",
   "mimetype": "text/x-python",
   "name": "python",
   "nbconvert_exporter": "python",
   "pygments_lexer": "ipython3",
   "version": "3.8.8"
  }
 },
 "nbformat": 4,
 "nbformat_minor": 4
}
