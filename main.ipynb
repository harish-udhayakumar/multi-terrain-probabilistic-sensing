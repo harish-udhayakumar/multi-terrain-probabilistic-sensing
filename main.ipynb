{
 "cells": [
  {
   "cell_type": "markdown",
   "metadata": {},
   "source": [
    "# Multi terrain probabistic sensing"
   ]
  },
  {
   "cell_type": "markdown",
   "metadata": {},
   "source": [
    "# About this file\n",
    "\n",
    "This file is to use the functionalities of the classes defined in the other file.\n",
    "\n",
    "## Things to be done here\n",
    "\n",
    "1)\n",
    "\n",
    "## Things done here\n",
    "\n",
    "1)"
   ]
  },
  {
   "cell_type": "code",
   "execution_count": 3,
   "metadata": {},
   "outputs": [],
   "source": [
    "%run a_star_2.ipynb\n",
    "import numpy as np\n",
    "%run agent_6.ipynb\n",
    "\n",
    "import random"
   ]
  },
  {
   "cell_type": "code",
   "execution_count": 4,
   "metadata": {},
   "outputs": [],
   "source": [
    "maze_size = 10\n",
    "probability = 0.3"
   ]
  },
  {
   "cell_type": "markdown",
   "metadata": {},
   "source": [
    "# Code for Agent 6 goes here"
   ]
  },
  {
   "cell_type": "code",
   "execution_count": 5,
   "metadata": {},
   "outputs": [],
   "source": [
    "def run_agent_6(agent6, maze):\n",
    "    source = maze.source\n",
    "    terrain_matrix = maze.terrain_matrix\n",
    "    full_grid_world_matrix = maze.full_grid_world_matrix\n",
    "    agent_gridworld = agent6.agent_gridworld\n",
    "\n",
    "    target_reached = False\n",
    "    while not target_reached:\n",
    "        current_target = agent6.getMaxProbabilityCell(source)\n",
    "        print('Temporarily checking:',current_target)\n",
    "        _,_,_,path = astar(source,current_target,  agent6.agent_gridworld)\n",
    "        print(path)\n",
    "        for node in path:\n",
    "            if full_grid_world_matrix.item(node) == 0:\n",
    "                terrain_type = terrain_matrix.item(node)\n",
    "                agent6.update_probabilities(node, 'open',  terrain_type)\n",
    "                break\n",
    "            elif full_grid_world_matrix.item(node) == 1:\n",
    "                print('cell blocked, replanning route')\n",
    "                agent6.update_probabilities(node,'blocked')\n",
    "                agent6.agent_gridworld.itemset(node,1)\n",
    "                run_agent_6(agent6, maze)\n",
    "#                 _,_,_,path = astar(source,current_target,  agent6.agent_gridworld)\n",
    "\n",
    "        if path:\n",
    "            target_reached = agent6.examine(maze, path[-1])\n",
    "        else:\n",
    "            target_reached = False\n",
    "        current_target = source\n",
    "\n",
    "        if (not target_reached):\n",
    "            agent6.update_probabilities(node, 'open',  terrain_type)\n"
   ]
  },
  {
   "cell_type": "markdown",
   "metadata": {},
   "source": [
    "# Main function"
   ]
  },
  {
   "cell_type": "code",
   "execution_count": null,
   "metadata": {
    "scrolled": true
   },
   "outputs": [],
   "source": [
    "if __name__ == \"__main__\":\n",
    "\n",
    "#     source,target=set_valid_source_target()\n",
    "    maze = gridworld(maze_size, probability)\n",
    "    agent6 = agent_6(maze_size)\n",
    "    run_agent_6(agent6, maze)"
   ]
  },
  {
   "cell_type": "code",
   "execution_count": null,
   "metadata": {},
   "outputs": [],
   "source": [
    "plt.spy(maze.full_grid_world_matrix)"
   ]
  },
  {
   "cell_type": "code",
   "execution_count": null,
   "metadata": {},
   "outputs": [],
   "source": []
  },
  {
   "cell_type": "code",
   "execution_count": null,
   "metadata": {},
   "outputs": [],
   "source": []
  },
  {
   "cell_type": "code",
   "execution_count": null,
   "metadata": {},
   "outputs": [],
   "source": []
  }
 ],
 "metadata": {
  "kernelspec": {
   "display_name": "Python 3",
   "language": "python",
   "name": "python3"
  },
  "language_info": {
   "codemirror_mode": {
    "name": "ipython",
    "version": 3
   },
   "file_extension": ".py",
   "mimetype": "text/x-python",
   "name": "python",
   "nbconvert_exporter": "python",
   "pygments_lexer": "ipython3",
   "version": "3.8.5"
  }
 },
 "nbformat": 4,
 "nbformat_minor": 4
}
